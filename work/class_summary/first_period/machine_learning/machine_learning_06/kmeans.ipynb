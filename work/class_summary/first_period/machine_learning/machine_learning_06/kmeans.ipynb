{
 "cells": [
  {
   "cell_type": "code",
   "execution_count": 48,
   "metadata": {},
   "outputs": [],
   "source": [
    "import time\n",
    "import numpy as np\n",
    "import matplotlib.pyplot as plt\n",
    "from sklearn.decomposition import PCA\n",
    "from sklearn.datasets import load_iris\n",
    "from IPython.display import clear_output\n",
    "from sklearn.preprocessing import StandardScaler\n",
    "from sklearn.model_selection import train_test_split"
   ]
  },
  {
   "cell_type": "code",
   "execution_count": 49,
   "metadata": {},
   "outputs": [],
   "source": [
    "# 设置随机数种子\n",
    "np.random.seed(42)\n",
    "\n",
    "# 加载数据\n",
    "iris = load_iris()\n",
    "X, y = iris.data, iris.target\n",
    "\n",
    "# 划分训练集和测试集\n",
    "X_train, X_test, y_train, y_test = train_test_split(X, y, test_size=0.3, random_state=42)"
   ]
  },
  {
   "cell_type": "code",
   "execution_count": 50,
   "metadata": {},
   "outputs": [],
   "source": [
    "# 定义PCA降维，以便于可视化数据\n",
    "scaler = StandardScaler()\n",
    "X_scaled = scaler.fit_transform(X_train)\n",
    "\n",
    "# PCA降维\n",
    "pca = PCA(n_components=2)  # 保留2个主成分（因为平面散点图只有两个坐标轴）\n",
    "pca = pca.fit(X_scaled)"
   ]
  },
  {
   "cell_type": "code",
   "execution_count": 51,
   "metadata": {},
   "outputs": [
    {
     "data": {
      "text/plain": [
       "array([[5.5, 2.4, 3.7, 1. ],\n",
       "       [6.3, 2.8, 5.1, 1.5],\n",
       "       [6.4, 3.1, 5.5, 1.8],\n",
       "       [6.6, 3. , 4.4, 1.4],\n",
       "       [7.2, 3.6, 6.1, 2.5]])"
      ]
     },
     "execution_count": 51,
     "metadata": {},
     "output_type": "execute_result"
    }
   ],
   "source": [
    "X_train[:5]"
   ]
  },
  {
   "cell_type": "code",
   "execution_count": 55,
   "metadata": {},
   "outputs": [
    {
     "data": {
      "image/png": "[encoded data removed]",
      "text/plain": [
       "<Figure size 640x480 with 1 Axes>"
      ]
     },
     "metadata": {},
     "output_type": "display_data"
    }
   ],
   "source": [
    "# 设置K\n",
    "K = 3\n",
    "\n",
    "# 设置迭代次数\n",
    "iters = 20\n",
    "\n",
    "# 随机选择簇中心\n",
    "samples = np.random.choice(range(len(X_train)), size=K)\n",
    "centroids = X_train[samples]\n",
    "\n",
    "# 初始化每个点的类别\n",
    "labels = np.zeros(len(X_train))\n",
    "\n",
    "# K-means聚类\n",
    "for i in range(iters):\n",
    "    # 为每个点分配其最近的中心\n",
    "    for j in range(len(X_train)):\n",
    "        distances = np.linalg.norm(centroids - X_train[j], axis=1)  # 欧拉距离\n",
    "        labels[j] = np.argmin(distances, axis=0)                    # 更新类别\n",
    "    # 更新每个簇中心\n",
    "    for k in range(K):\n",
    "        centroids[k] = X_train[labels == k].mean(axis=0)\n",
    "        \n",
    "    # 可视化聚类中心\n",
    "    clear_output(wait=True)  # 清除之前的输出\n",
    "    for k in range(K):\n",
    "        cluster_points = X_train[labels == k]\n",
    "        # PCA降维，便于可视化到平面坐标上\n",
    "        cluster_points = pca.transform(cluster_points)\n",
    "        centroids_points = pca.transform(centroids)\n",
    "        plt.scatter(cluster_points[:, 0], cluster_points[:, 1], label=f'Cluster {k+1}')\n",
    "    plt.scatter(centroids_points[:, 0], centroids_points[:, 1], c='red', marker='x', label='Centroids')    # 绘制质心\n",
    "    plt.legend()\n",
    "    plt.show()\n",
    "    time.sleep(0.5)"
   ]
  },
  {
   "cell_type": "code",
   "execution_count": 56,
   "metadata": {},
   "outputs": [],
   "source": [
    "# 测试样例数据\n",
    "example_train = np.array([\n",
    "    [5.1, 3.5, 1.4, 0.2],\n",
    "    [5.0, 3.6, 1.4, 0.2],\n",
    "    [7.0, 3.2, 4.7, 1.4],\n",
    "    [6.9, 3.1, 4.9, 1.5],\n",
    "    [5.7, 2.5, 5.0, 2.0],\n",
    "    [5.8, 2.8, 5.1, 2.4]\n",
    "])\n",
    "\n",
    "example_test = np.array([4.8, 3.0, 1.1, 0.1])"
   ]
  },
  {
   "cell_type": "code",
   "execution_count": 57,
   "metadata": {},
   "outputs": [
    {
     "name": "stdout",
     "output_type": "stream",
     "text": [
      "训练样例 [5.1 3.5 1.4 0.2] 的类别: 2\n",
      "训练样例 [5.  3.6 1.4 0.2] 的类别: 2\n",
      "训练样例 [7.  3.2 4.7 1.4] 的类别: 1\n",
      "训练样例 [6.9 3.1 4.9 1.5] 的类别: 1\n",
      "训练样例 [5.7 2.5 5.  2. ] 的类别: 0\n",
      "训练样例 [5.8 2.8 5.1 2.4] 的类别: 1\n",
      "\n",
      "测试样例 [5.8 2.8 5.1 2.4] 的类别: 2\n"
     ]
    }
   ],
   "source": [
    "# 样例的训练集类别\n",
    "for et in example_train:\n",
    "    distances = np.linalg.norm(centroids - et, axis=1)\n",
    "    print(f'训练样例 {et} 的类别:', np.argmin(distances, axis=0))\n",
    "\n",
    "distance = np.linalg.norm(centroids - example_test, axis=1)\n",
    "print(f'\\n测试样例 {et} 的类别:', np.argmin(distance, axis=0))"
   ]
  },
  {
   "cell_type": "code",
   "execution_count": null,
   "metadata": {},
   "outputs": [],
   "source": []
  }
 ],
 "metadata": {
  "kernelspec": {
   "display_name": "beatsleo",
   "language": "python",
   "name": "python3"
  },
  "language_info": {
   "codemirror_mode": {
    "name": "ipython",
    "version": 3
   },
   "file_extension": ".py",
   "mimetype": "text/x-python",
   "name": "python",
   "nbconvert_exporter": "python",
   "pygments_lexer": "ipython3",
   "version": "3.10.13"
  }
 },
 "nbformat": 4,
 "nbformat_minor": 2
}
