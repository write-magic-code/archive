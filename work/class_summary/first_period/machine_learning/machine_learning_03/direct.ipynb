{
 "cells": [
  {
   "cell_type": "code",
   "execution_count": 34,
   "metadata": {},
   "outputs": [],
   "source": [
    "import numpy as np"
   ]
  },
  {
   "cell_type": "code",
   "execution_count": 35,
   "metadata": {},
   "outputs": [],
   "source": [
    "X = np.array([\n",
    "    [50, 2, 10, 1],   # 面积50平米，2个房间，10年房龄\n",
    "    [80, 3, 8, 1],    # 面积80平米，3个房间，8年房龄\n",
    "    [100, 3, 15, 1],  # 面积100平米，3个房间，15年房龄\n",
    "    [120, 4, 15, 1],  # 面积120平米，4个房间，15年房龄\n",
    "    [150, 4, 20, 1],  # 面积150平米，4个房间，20年房龄\n",
    "    [90, 3, 12, 1],   # 面积90平米，3个房间，12年房龄\n",
    "    [110, 4, 7, 1],   # 面积110平米，4个房间，7年房龄\n",
    "    [130, 5, 3, 1]    # 面积130平米，5个房间，3年房龄\n",
    "])\n",
    "\n",
    "# 对应的房价（单位：万元）\n",
    "y = np.array([180, 240, 260, 300, 350, 280, 320, 360])"
   ]
  },
  {
   "cell_type": "markdown",
   "metadata": {},
   "source": [
    "$\\mathbf{w} = (X^TX)^{-1} X^T\\mathbf{y}$ "
   ]
  },
  {
   "cell_type": "code",
   "execution_count": 36,
   "metadata": {},
   "outputs": [
    {
     "data": {
      "text/plain": [
       "array([  2.41156841, -14.61067853,  -4.37708565, 136.42936596])"
      ]
     },
     "execution_count": 36,
     "metadata": {},
     "output_type": "execute_result"
    }
   ],
   "source": [
    "w = np.linalg.inv(X.T @ X) @ X.T @ y\n",
    "w"
   ]
  },
  {
   "cell_type": "markdown",
   "metadata": {},
   "source": [
    "### 预测"
   ]
  },
  {
   "cell_type": "code",
   "execution_count": 37,
   "metadata": {},
   "outputs": [],
   "source": [
    "from sklearn.metrics import mean_squared_error"
   ]
  },
  {
   "cell_type": "code",
   "execution_count": 38,
   "metadata": {},
   "outputs": [
    {
     "name": "stdout",
     "output_type": "stream",
     "text": [
      "预测的房价： [289.98331479 393.72080089]\n",
      "均方误差: 0.8183143796697121\n"
     ]
    }
   ],
   "source": [
    "# 测试数据\n",
    "X_test = np.array([\n",
    "    [100, 3, 10, 1],\n",
    "    [140, 4, 5, 1]\n",
    "])\n",
    "\n",
    "# 测试数据的房价\n",
    "y_test = np.array([290, 395])\n",
    "\n",
    "# 预测房价\n",
    "y_pred = X_test @ w\n",
    "print(\"预测的房价：\", y_pred)\n",
    "\n",
    "mse = mean_squared_error(y_test, y_pred)\n",
    "print(f\"均方误差: {mse}\")"
   ]
  },
  {
   "cell_type": "code",
   "execution_count": null,
   "metadata": {},
   "outputs": [],
   "source": []
  }
 ],
 "metadata": {
  "kernelspec": {
   "display_name": "beatsleo",
   "language": "python",
   "name": "python3"
  },
  "language_info": {
   "codemirror_mode": {
    "name": "ipython",
    "version": 3
   },
   "file_extension": ".py",
   "mimetype": "text/x-python",
   "name": "python",
   "nbconvert_exporter": "python",
   "pygments_lexer": "ipython3",
   "version": "3.10.13"
  }
 },
 "nbformat": 4,
 "nbformat_minor": 2
}
