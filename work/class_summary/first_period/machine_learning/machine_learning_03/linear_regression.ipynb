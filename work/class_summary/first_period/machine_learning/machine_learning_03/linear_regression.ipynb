{
 "cells": [
  {
   "cell_type": "code",
   "execution_count": 3,
   "metadata": {},
   "outputs": [],
   "source": [
    "import numpy as np\n",
    "from sklearn.metrics import mean_squared_error"
   ]
  },
  {
   "cell_type": "code",
   "execution_count": 4,
   "metadata": {},
   "outputs": [],
   "source": [
    "# 训练数据的三元特征（房屋面积，房间数量，房屋年龄）\n",
    "X_train = np.array([\n",
    "    [50, 2, 10],   # 面积50平米，2个房间，10年房龄\n",
    "    [80, 3, 8],    # 面积80平米，3个房间，8年房龄\n",
    "    [100, 3, 15],  # 面积100平米，3个房间，15年房龄\n",
    "    [120, 4, 15],  # 面积120平米，4个房间，15年房龄\n",
    "    [150, 4, 20],  # 面积150平米，4个房间，20年房龄\n",
    "    [90, 3, 12],   # 面积90平米，3个房间，12年房龄\n",
    "    [110, 4, 7],   # 面积110平米，4个房间，7年房龄\n",
    "    [130, 5, 3]    # 面积130平米，5个房间，3年房龄\n",
    "])\n",
    "\n",
    "# 对应的房价（单位：万元）\n",
    "y_train = np.array([180, 240, 260, 300, 350, 280, 320, 360])\n",
    "\n",
    "# 测试数据的三元特征（房屋面积，房间数量，房屋年龄）\n",
    "X_test = np.array([\n",
    "    [100, 3, 10],  # 100平米，3个房间，10年房龄\n",
    "    [140, 4, 5]    # 140平米，4个房间，5年房龄\n",
    "])\n",
    "\n",
    "# 测试数据的房价（单位：万元）\n",
    "y_test = np.array([290 , 395])"
   ]
  },
  {
   "cell_type": "markdown",
   "metadata": {},
   "source": [
    "### 直接求导法"
   ]
  },
  {
   "cell_type": "code",
   "execution_count": 19,
   "metadata": {},
   "outputs": [
    {
     "name": "stdout",
     "output_type": "stream",
     "text": [
      "[289.98331479 393.72080089]\n",
      "斜率（特征的权重）： [  2.41156841 -14.61067853  -4.37708565]\n",
      "截距： 136.4293659621803\n",
      "均方误差: 0.8183143797149522\n"
     ]
    }
   ],
   "source": [
    "from sklearn.linear_model import LinearRegression\n",
    "\n",
    "# 创建线性回归模型\n",
    "model_direct = LinearRegression()\n",
    "\n",
    "# 训练模型\n",
    "model_direct.fit(X_train, y_train)\n",
    "\n",
    "# 使用训练好的模型进行预测\n",
    "y_pred = model_direct.predict(X_test)\n",
    "\n",
    "# 输出预测的房价\n",
    "print(y_pred)\n",
    "# 查看斜率（系数）\n",
    "print(\"斜率（特征的权重）：\", model_direct.coef_)\n",
    "# 查看截距\n",
    "print(\"截距：\", model_direct.intercept_)\n",
    "\n",
    "mse = mean_squared_error(y_test, y_pred)\n",
    "print(f\"均方误差: {mse}\")"
   ]
  },
  {
   "cell_type": "markdown",
   "metadata": {},
   "source": [
    "### 梯度下降法"
   ]
  },
  {
   "cell_type": "code",
   "execution_count": 6,
   "metadata": {},
   "outputs": [
    {
     "name": "stdout",
     "output_type": "stream",
     "text": [
      "[291.28199103 392.86700797]\n",
      "斜率（特征的权重）： [ 1.25238738 -0.25284252 -0.39317288]\n",
      "截距： [0.00784979]\n",
      "均方误差: 3.096578010715778\n"
     ]
    }
   ],
   "source": [
    "from sklearn.linear_model import SGDRegressor\n",
    "from sklearn.preprocessing import StandardScaler\n",
    "\n",
    "# 归一化数据\n",
    "scaler_X = StandardScaler()\n",
    "scaler_y = StandardScaler()\n",
    "X_normalized = scaler_X.fit_transform(X_train)\n",
    "y_normalized = scaler_y.fit_transform(y_train.reshape(-1, 1)).reshape(-1)\n",
    "\n",
    "# 创建线性回归模型\n",
    "model = SGDRegressor(eta0=0.1, learning_rate='constant', penalty=None, max_iter=1000, tol=None, shuffle=False, power_t=0.5)\n",
    "\n",
    "# 训练模型\n",
    "model.fit(X_normalized, y_normalized, coef_init=[0,0,0], intercept_init=[0])\n",
    "\n",
    "# 使用训练好的模型进行预测\n",
    "y_pred = model.predict(scaler_X.transform(X_test))\n",
    "y_pred = scaler_y.inverse_transform(y_pred.reshape(-1, 1)).reshape(-1)\n",
    "\n",
    "# 输出预测的房价\n",
    "print(y_pred)\n",
    "# 查看斜率（系数）\n",
    "print(\"斜率（特征的权重）：\", model.coef_)\n",
    "# 查看截距\n",
    "print(\"截距：\", model.intercept_)\n",
    "\n",
    "mse = mean_squared_error(y_test, y_pred)\n",
    "print(f\"均方误差: {mse}\")"
   ]
  },
  {
   "cell_type": "code",
   "execution_count": null,
   "metadata": {},
   "outputs": [],
   "source": []
  }
 ],
 "metadata": {
  "kernelspec": {
   "display_name": "beatsleo",
   "language": "python",
   "name": "python3"
  },
  "language_info": {
   "codemirror_mode": {
    "name": "ipython",
    "version": 3
   },
   "file_extension": ".py",
   "mimetype": "text/x-python",
   "name": "python",
   "nbconvert_exporter": "python",
   "pygments_lexer": "ipython3",
   "version": "3.10.13"
  }
 },
 "nbformat": 4,
 "nbformat_minor": 2
}
