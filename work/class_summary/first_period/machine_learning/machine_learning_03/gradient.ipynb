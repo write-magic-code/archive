{
 "cells": [
  {
   "cell_type": "code",
   "execution_count": 4,
   "metadata": {},
   "outputs": [],
   "source": [
    "import numpy as np"
   ]
  },
  {
   "cell_type": "markdown",
   "metadata": {},
   "source": [
    "### 归一化前"
   ]
  },
  {
   "cell_type": "code",
   "execution_count": 5,
   "metadata": {},
   "outputs": [],
   "source": [
    "X = np.array([\n",
    "    [50, 2, 10, 1],   # 面积50平米，2个房间，10年房龄\n",
    "    [80, 3, 8, 1],    # 面积80平米，3个房间，8年房龄\n",
    "    [100, 3, 15, 1],  # 面积100平米，3个房间，15年房龄\n",
    "    [120, 4, 15, 1],  # 面积120平米，4个房间，15年房龄\n",
    "    [150, 4, 20, 1],  # 面积150平米，4个房间，20年房龄\n",
    "    [90, 3, 12, 1],   # 面积90平米，3个房间，12年房龄\n",
    "    [110, 4, 7, 1],   # 面积110平米，4个房间，7年房龄\n",
    "    [130, 5, 3, 1]    # 面积130平米，5个房间，3年房龄\n",
    "])\n",
    "# 对应的房价（单位：万元）\n",
    "y = np.array([180, 240, 260, 300, 350, 280, 320, 360]) "
   ]
  },
  {
   "cell_type": "markdown",
   "metadata": {},
   "source": [
    "${\\mathbf{\\bar w} = \\mathbf{w} - \\alpha \\nabla f(\\mathbf{w})}$ </br> </br>\n",
    "$\\nabla f(\\mathbf{w}) = X^TX \\mathbf{w} - X^T \\mathbf{y}$ "
   ]
  },
  {
   "cell_type": "code",
   "execution_count": 6,
   "metadata": {},
   "outputs": [
    {
     "name": "stderr",
     "output_type": "stream",
     "text": [
      "C:\\Users\\BeatsLeo\\AppData\\Local\\Temp\\ipykernel_27236\\4004418720.py:4: RuntimeWarning: overflow encountered in matmul\n",
      "  w = w - alpha * (X.T @ X @ w - X.T @ y) / 8\n",
      "C:\\Users\\BeatsLeo\\AppData\\Local\\Temp\\ipykernel_27236\\4004418720.py:4: RuntimeWarning: invalid value encountered in subtract\n",
      "  w = w - alpha * (X.T @ X @ w - X.T @ y) / 8\n"
     ]
    },
    {
     "data": {
      "text/plain": [
       "array([nan, nan, nan, nan])"
      ]
     },
     "execution_count": 6,
     "metadata": {},
     "output_type": "execute_result"
    }
   ],
   "source": [
    "alpha = 0.1\n",
    "w = [0, 0, 0, 0]\n",
    "for i in range(1000):\n",
    "    w = w - alpha * (X.T @ X @ w - X.T @ y)\n",
    "w"
   ]
  },
  {
   "cell_type": "markdown",
   "metadata": {},
   "source": [
    "### 归一化后"
   ]
  },
  {
   "cell_type": "code",
   "execution_count": 7,
   "metadata": {},
   "outputs": [],
   "source": [
    "from sklearn.preprocessing import StandardScaler"
   ]
  },
  {
   "cell_type": "code",
   "execution_count": 8,
   "metadata": {},
   "outputs": [
    {
     "data": {
      "text/plain": [
       "(array([[-1.84530662, -1.73205081, -0.2478408 ,  0.        ],\n",
       "        [-0.81536804, -0.57735027, -0.64438608,  0.        ],\n",
       "        [-0.12874232, -0.57735027,  0.7435224 ,  0.        ],\n",
       "        [ 0.5578834 ,  0.57735027,  0.7435224 ,  0.        ],\n",
       "        [ 1.58782198,  0.57735027,  1.73488559,  0.        ],\n",
       "        [-0.47205518, -0.57735027,  0.14870448,  0.        ],\n",
       "        [ 0.21457054,  0.57735027, -0.84265872,  0.        ],\n",
       "        [ 0.90119626,  1.73205081, -1.63574927,  0.        ]]),\n",
       " array([-1.90113312, -0.82755207, -0.46969171,  0.24602899,  1.14067987,\n",
       "        -0.11183136,  0.60388935,  1.31961005]))"
      ]
     },
     "execution_count": 8,
     "metadata": {},
     "output_type": "execute_result"
    }
   ],
   "source": [
    "# 创建StandardScaler\n",
    "scaler_X = StandardScaler()\n",
    "scaler_y = StandardScaler()\n",
    "X_normalized = scaler_X.fit_transform(X)\n",
    "y_normalized = scaler_y.fit_transform(y.reshape(-1, 1)).reshape(-1)\n",
    "X_normalized, y_normalized"
   ]
  },
  {
   "cell_type": "code",
   "execution_count": 9,
   "metadata": {},
   "outputs": [
    {
     "data": {
      "text/plain": [
       "array([ 1.2566944 , -0.22622516, -0.39491766,  0.        ])"
      ]
     },
     "execution_count": 9,
     "metadata": {},
     "output_type": "execute_result"
    }
   ],
   "source": [
    "alpha = 0.1\n",
    "w = [0, 0, 0, 0]\n",
    "for i in range(1000):\n",
    "    w = w - alpha * (X_normalized.T @ X_normalized @ w - X_normalized.T @ y_normalized)\n",
    "w"
   ]
  },
  {
   "cell_type": "markdown",
   "metadata": {},
   "source": [
    "### 预测"
   ]
  },
  {
   "cell_type": "code",
   "execution_count": 10,
   "metadata": {},
   "outputs": [],
   "source": [
    "from sklearn.metrics import mean_squared_error"
   ]
  },
  {
   "cell_type": "code",
   "execution_count": 11,
   "metadata": {},
   "outputs": [
    {
     "name": "stdout",
     "output_type": "stream",
     "text": [
      "预测的房价： [289.97760524 393.70756026]\n",
      "均方误差: 0.835451004217338\n"
     ]
    }
   ],
   "source": [
    "# 测试数据\n",
    "X_test = np.array([\n",
    "    [100, 3, 10, 1],\n",
    "    [140, 4, 5, 1]\n",
    "])\n",
    "\n",
    "# 测试数据的房价\n",
    "y_test = np.array([290, 395])\n",
    "\n",
    "# 预测房价\n",
    "predictions = scaler_X.transform(X_test) @ w\n",
    "y_pred = scaler_y.inverse_transform(predictions.reshape(-1, 1)).reshape(-1)\n",
    "print(\"预测的房价：\", y_pred)\n",
    "\n",
    "mse = mean_squared_error(y_test, y_pred)\n",
    "print(f\"均方误差: {mse}\")"
   ]
  },
  {
   "cell_type": "code",
   "execution_count": 12,
   "metadata": {},
   "outputs": [
    {
     "data": {
      "text/plain": [
       "array([ 1.2566944 , -0.22622516, -0.39491766,  0.        ])"
      ]
     },
     "execution_count": 12,
     "metadata": {},
     "output_type": "execute_result"
    }
   ],
   "source": [
    "w"
   ]
  }
 ],
 "metadata": {
  "kernelspec": {
   "display_name": "beatsleo",
   "language": "python",
   "name": "python3"
  },
  "language_info": {
   "codemirror_mode": {
    "name": "ipython",
    "version": 3
   },
   "file_extension": ".py",
   "mimetype": "text/x-python",
   "name": "python",
   "nbconvert_exporter": "python",
   "pygments_lexer": "ipython3",
   "version": "3.10.13"
  }
 },
 "nbformat": 4,
 "nbformat_minor": 2
}
