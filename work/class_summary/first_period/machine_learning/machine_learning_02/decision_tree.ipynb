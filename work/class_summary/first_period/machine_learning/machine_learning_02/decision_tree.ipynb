{
 "cells": [
  {
   "cell_type": "code",
   "execution_count": 5,
   "metadata": {},
   "outputs": [],
   "source": [
    "from sklearn.datasets import load_iris\n",
    "from sklearn.metrics import accuracy_score\n",
    "from sklearn.tree import DecisionTreeClassifier\n",
    "from sklearn.model_selection import train_test_split"
   ]
  },
  {
   "cell_type": "code",
   "execution_count": 44,
   "metadata": {},
   "outputs": [
    {
     "name": "stdout",
     "output_type": "stream",
     "text": [
      "示例数据预测结果: ['setosa']\n",
      "测试集准确率: 0.98\n"
     ]
    }
   ],
   "source": [
    "# 加载数据\n",
    "iris = load_iris()\n",
    "X, y = iris.data, iris.target\n",
    "\n",
    "# 划分训练集和测试集\n",
    "X_train, X_test, y_train, y_test = train_test_split(X, y, test_size=0.3)\n",
    "\n",
    "# 创建决策模型\n",
    "dt = DecisionTreeClassifier(criterion='gini', splitter='best', min_samples_split=5, max_depth=4)\n",
    "\n",
    "# 训练模型\n",
    "dt.fit(X_train, y_train)\n",
    "\n",
    "# 示例数据的预测\n",
    "example = dt.predict([[4.8, 3.0, 1.1, 0.1]])\n",
    "print('示例数据预测结果:', iris.target_names[example])\n",
    "\n",
    "# 测试集预测\n",
    "y_pred = dt.predict(X_test)\n",
    "\n",
    "# 输出准确率\n",
    "print(f\"测试集准确率: {accuracy_score(y_test, y_pred):.2f}\")"
   ]
  }
 ],
 "metadata": {
  "kernelspec": {
   "display_name": "beatsleo",
   "language": "python",
   "name": "python3"
  },
  "language_info": {
   "codemirror_mode": {
    "name": "ipython",
    "version": 3
   },
   "file_extension": ".py",
   "mimetype": "text/x-python",
   "name": "python",
   "nbconvert_exporter": "python",
   "pygments_lexer": "ipython3",
   "version": "3.10.13"
  }
 },
 "nbformat": 4,
 "nbformat_minor": 2
}
