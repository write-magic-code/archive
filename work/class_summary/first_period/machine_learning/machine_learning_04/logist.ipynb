{
 "cells": [
  {
   "cell_type": "code",
   "execution_count": 87,
   "metadata": {},
   "outputs": [],
   "source": [
    "import numpy as np\n",
    "import pandas as pd\n",
    "import matplotlib.pyplot as plt\n",
    "from sklearn.metrics import accuracy_score\n",
    "from sklearn.preprocessing import StandardScaler\n",
    "from sklearn.model_selection import train_test_split"
   ]
  },
  {
   "cell_type": "markdown",
   "metadata": {},
   "source": [
    "数据集结构\n",
    "- Feature 1: 年龄 - 申请人的年龄（18-65岁）\n",
    "- Feature 2: 年收入 - 申请人的年收入（单位：万元）\n",
    "- Feature 3: 信用评分 - 申请人的信用评分（300-850，分数越高信用越好）\n",
    "- Feature 4: 不良信用记录 - 申请人是否有不良信用记录（1表示有，0表示没有）\n",
    "- Label: 信用卡审批结果 - 是否批准信用卡申请（1表示批准，0表示拒绝）"
   ]
  },
  {
   "cell_type": "code",
   "execution_count": 88,
   "metadata": {},
   "outputs": [
    {
     "name": "stdout",
     "output_type": "stream",
     "text": [
      "特征数组 X:\n",
      " [[24 27 88  0]\n",
      " [39 56 58  1]\n",
      " [32 30 82  0]\n",
      " [29 33 73  0]\n",
      " [42 66 89  1]\n",
      " [34 36 80  0]]\n",
      "\n",
      "标签数组 y:\n",
      " [1 0 1 0 1 0]\n"
     ]
    }
   ],
   "source": [
    "# 加载数据\n",
    "data = pd.read_csv('./信用卡审批.csv')\n",
    "\n",
    "# 提取特征和标签\n",
    "X = data.iloc[:, :-1].values  # 提取前4列作为特征\n",
    "y = data.iloc[:, -1].values    # 提取最后一列作为标签\n",
    "\n",
    "# 输出结果\n",
    "print(\"特征数组 X:\\n\", X[-6:])\n",
    "print(\"\\n标签数组 y:\\n\", y[-6:])"
   ]
  },
  {
   "cell_type": "code",
   "execution_count": 89,
   "metadata": {},
   "outputs": [],
   "source": [
    "# 数据集划分\n",
    "X_train, X_test, y_train, y_test = train_test_split(X, y, test_size=0.3, random_state=42)\n",
    "\n",
    "# 归一化数据（分类任务不对y进行归一化）\n",
    "scaler_X = StandardScaler()\n",
    "X_normalized = scaler_X.fit_transform(X_train)"
   ]
  },
  {
   "cell_type": "code",
   "execution_count": 90,
   "metadata": {},
   "outputs": [],
   "source": [
    "# 定义逻辑回归\n",
    "def logist_regression(X, w):\n",
    "    z = X @ w\n",
    "    y = 1 / (1 + np.exp(-z))\n",
    "    return y\n",
    "\n",
    "# 定义交叉熵损失的导函数\n",
    "def dCrossEntropy(X_train, y_train, w):\n",
    "    n = len(X_train)\n",
    "    return (1/n) * X_train.T @ (1 / (1+np.exp(-X_train@w)) - y_train)"
   ]
  },
  {
   "cell_type": "markdown",
   "metadata": {},
   "source": [
    "### 不使用归一化"
   ]
  },
  {
   "cell_type": "code",
   "execution_count": 91,
   "metadata": {},
   "outputs": [
    {
     "name": "stdout",
     "output_type": "stream",
     "text": [
      "[-18.08868556   2.73454024   7.79812708  -4.13143624]\n",
      "准确率: 0.72\n",
      "示例数据结果: [1. 1.]\n"
     ]
    }
   ],
   "source": [
    "# 初始化参数\n",
    "w = np.array([0, 0, 0, 0])\n",
    "\n",
    "# 梯度下降更新\n",
    "alpha = 0.1\n",
    "for i in range(1000):\n",
    "    df = dCrossEntropy(X_train, y_train, w)\n",
    "    w = w - alpha * df\n",
    "\n",
    "print(w)\n",
    "\n",
    "# 预测\n",
    "y_pred = logist_regression(X_test, w)\n",
    "y_pred[y_pred >= 0.5] = 1\n",
    "y_pred[y_pred < 0.5] = 0\n",
    "\n",
    "print('准确率:', round(accuracy_score(y_test, y_pred), 2))\n",
    "\n",
    "# 测试示例数据\n",
    "X_exam = np.array([\n",
    "    [32, 30, 80, 0],\n",
    "    [40, 63, 86, 1]\n",
    "])\n",
    "\n",
    "print('示例数据结果:', logist_regression(X_exam, w))"
   ]
  },
  {
   "cell_type": "markdown",
   "metadata": {},
   "source": [
    "### 使用归一化"
   ]
  },
  {
   "cell_type": "code",
   "execution_count": 94,
   "metadata": {},
   "outputs": [
    {
     "name": "stdout",
     "output_type": "stream",
     "text": [
      "[-1.13424594  0.80213428  2.55627524 -0.4769424 ]\n",
      "准确率: 0.94\n",
      "示例数据结果: [0.66740043 0.77898745]\n"
     ]
    }
   ],
   "source": [
    "# 初始化参数\n",
    "w = np.array([0, 0, 0, 0])\n",
    "\n",
    "# 梯度下降更新\n",
    "alpha = 0.1\n",
    "for i in range(1000):\n",
    "    df = dCrossEntropy(X_normalized, y_train, w)\n",
    "    w = w - alpha * df\n",
    "\n",
    "print(w)\n",
    "\n",
    "# 预测\n",
    "y_pred = logist_regression(scaler_X.transform(X_test), w)\n",
    "y_pred[y_pred >= 0.5] = 1\n",
    "y_pred[y_pred < 0.5] = 0\n",
    "\n",
    "print('准确率:', round(accuracy_score(y_test, y_pred), 2))\n",
    "\n",
    "# 测试示例数据\n",
    "X_exam = np.array([\n",
    "    [32, 30, 80, 0],\n",
    "    [40, 63, 86, 1]\n",
    "])\n",
    "\n",
    "print('示例数据结果:', logist_regression(scaler_X.transform(X_exam), w))"
   ]
  },
  {
   "cell_type": "code",
   "execution_count": null,
   "metadata": {},
   "outputs": [],
   "source": []
  }
 ],
 "metadata": {
  "kernelspec": {
   "display_name": "beatsleo",
   "language": "python",
   "name": "python3"
  },
  "language_info": {
   "codemirror_mode": {
    "name": "ipython",
    "version": 3
   },
   "file_extension": ".py",
   "mimetype": "text/x-python",
   "name": "python",
   "nbconvert_exporter": "python",
   "pygments_lexer": "ipython3",
   "version": "3.10.13"
  }
 },
 "nbformat": 4,
 "nbformat_minor": 2
}
