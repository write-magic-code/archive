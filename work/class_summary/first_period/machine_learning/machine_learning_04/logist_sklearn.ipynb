{
 "cells": [
  {
   "cell_type": "code",
   "execution_count": 80,
   "metadata": {},
   "outputs": [],
   "source": [
    "import numpy as np\n",
    "import pandas as pd\n",
    "import matplotlib.pyplot as plt\n",
    "from sklearn.preprocessing import StandardScaler\n",
    "from sklearn.linear_model import LogisticRegression\n",
    "from sklearn.model_selection import train_test_split\n",
    "from sklearn.metrics import accuracy_score, precision_score, recall_score, f1_score"
   ]
  },
  {
   "cell_type": "markdown",
   "metadata": {},
   "source": [
    "数据集结构\n",
    "- Feature 1: 年龄 - 申请人的年龄（18-65岁）\n",
    "- Feature 2: 年收入 - 申请人的年收入（单位：万元）\n",
    "- Feature 3: 信用评分 - 申请人的信用评分（300-850，分数越高信用越好）\n",
    "- Feature 4: 不良信用记录 - 申请人是否有不良信用记录（1表示有，0表示没有）\n",
    "- Label: 信用卡审批结果 - 是否批准信用卡申请（1表示批准，0表示拒绝）"
   ]
  },
  {
   "cell_type": "code",
   "execution_count": 71,
   "metadata": {},
   "outputs": [
    {
     "name": "stdout",
     "output_type": "stream",
     "text": [
      "特征数组 X:\n",
      " [[24 27 88  0]\n",
      " [39 56 58  1]\n",
      " [32 30 82  0]\n",
      " [29 33 73  0]\n",
      " [42 66 89  1]\n",
      " [34 36 80  0]]\n",
      "\n",
      "标签数组 y:\n",
      " [1 0 1 0 1 0]\n"
     ]
    }
   ],
   "source": [
    "# 加载数据\n",
    "data = pd.read_csv('./信用卡审批.csv')\n",
    "\n",
    "# 提取特征和标签\n",
    "X = data.iloc[:, :-1].values  # 提取前4列作为特征\n",
    "y = data.iloc[:, -1].values    # 提取最后一列作为标签\n",
    "\n",
    "# 输出结果\n",
    "print(\"特征数组 X:\\n\", X[-6:])\n",
    "print(\"\\n标签数组 y:\\n\", y[-6:])"
   ]
  },
  {
   "cell_type": "code",
   "execution_count": 72,
   "metadata": {},
   "outputs": [],
   "source": [
    "# 数据集划分\n",
    "X_train, X_test, y_train, y_test = train_test_split(X, y, test_size=0.3, random_state=42)\n",
    "\n",
    "# 归一化数据（分类任务不对y进行归一化）\n",
    "scaler_X = StandardScaler()\n",
    "X_normalized = scaler_X.fit_transform(X_train)"
   ]
  },
  {
   "cell_type": "markdown",
   "metadata": {},
   "source": [
    "### 逻辑回归"
   ]
  },
  {
   "cell_type": "code",
   "execution_count": 73,
   "metadata": {},
   "outputs": [
    {
     "name": "stdout",
     "output_type": "stream",
     "text": [
      "模型准确率: 0.94\n",
      "示例数据结果: [1 1]\n"
     ]
    }
   ],
   "source": [
    "# 创建逻辑回归模型\n",
    "model = LogisticRegression(max_iter=1000, penalty=None, random_state=42)\n",
    "\n",
    "# 训练模型\n",
    "model.fit(X_normalized, y_train)\n",
    "\n",
    "# 预测测试集\n",
    "y_pred = model.predict(scaler_X.transform(X_test))\n",
    "\n",
    "# 计算模型准确率\n",
    "accuracy = accuracy_score(y_test, y_pred)\n",
    "print(f\"模型准确率: {accuracy:.2f}\")\n",
    "\n",
    "# 测试示例数据\n",
    "X_exam = np.array([\n",
    "    [32, 30, 80, 0],\n",
    "    [40, 63, 86, 1]\n",
    "])\n",
    "\n",
    "print('示例数据结果:', model.predict(X_exam))"
   ]
  },
  {
   "cell_type": "markdown",
   "metadata": {},
   "source": [
    "### 混淆矩阵"
   ]
  },
  {
   "cell_type": "code",
   "execution_count": 81,
   "metadata": {},
   "outputs": [],
   "source": [
    "from sklearn.metrics import confusion_matrix, ConfusionMatrixDisplay"
   ]
  },
  {
   "cell_type": "code",
   "execution_count": 78,
   "metadata": {},
   "outputs": [
    {
     "name": "stdout",
     "output_type": "stream",
     "text": [
      "混淆矩阵:\n",
      "[[8 1]\n",
      " [0 9]]\n"
     ]
    },
    {
     "data": {
      "image/png": "[encoded data removed]",
      "text/plain": [
       "<Figure size 640x480 with 2 Axes>"
      ]
     },
     "metadata": {},
     "output_type": "display_data"
    },
    {
     "name": "stdout",
     "output_type": "stream",
     "text": [
      "准确率:  0.9444444444444444\n",
      "精确率:  0.9\n",
      "召回率:  1.0\n",
      "f1-score:  0.9473684210526316\n"
     ]
    }
   ],
   "source": [
    "# 计算混淆矩阵\n",
    "cm = confusion_matrix(y_test, y_pred)\n",
    "\n",
    "# 输出混淆矩阵\n",
    "print(\"混淆矩阵:\")\n",
    "print(cm)\n",
    "\n",
    "# 绘制混淆矩阵\n",
    "disp = ConfusionMatrixDisplay(confusion_matrix=cm, display_labels=['RE', 'AC'])\n",
    "disp.plot(cmap=plt.cm.Blues)\n",
    "plt.title(\"Confusion Matrix\")\n",
    "plt.show()\n",
    "\n",
    "print('准确率: ', accuracy_score(y_test, y_pred))\n",
    "print('精确率: ', precision_score(y_test, y_pred))\n",
    "print('召回率: ', recall_score(y_test, y_pred))\n",
    "print('f1-score: ', f1_score(y_test, y_pred))"
   ]
  }
 ],
 "metadata": {
  "kernelspec": {
   "display_name": "beatsleo",
   "language": "python",
   "name": "python3"
  },
  "language_info": {
   "codemirror_mode": {
    "name": "ipython",
    "version": 3
   },
   "file_extension": ".py",
   "mimetype": "text/x-python",
   "name": "python",
   "nbconvert_exporter": "python",
   "pygments_lexer": "ipython3",
   "version": "3.10.13"
  }
 },
 "nbformat": 4,
 "nbformat_minor": 2
}
