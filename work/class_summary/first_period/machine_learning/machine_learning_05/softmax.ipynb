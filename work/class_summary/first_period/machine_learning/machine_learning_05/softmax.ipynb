{
 "cells": [
  {
   "cell_type": "code",
   "execution_count": 3,
   "metadata": {},
   "outputs": [],
   "source": [
    "import numpy as np\n",
    "from sklearn.datasets import load_iris\n",
    "from sklearn.metrics import accuracy_score\n",
    "from sklearn.model_selection import train_test_split"
   ]
  },
  {
   "cell_type": "code",
   "execution_count": 4,
   "metadata": {},
   "outputs": [],
   "source": [
    "# 加载数据\n",
    "iris = load_iris()\n",
    "X, y = iris.data, iris.target\n",
    "\n",
    "# 划分训练集和测试集\n",
    "X_train, X_test, y_train, y_test = train_test_split(X, y, test_size=0.3, random_state=42)"
   ]
  },
  {
   "cell_type": "code",
   "execution_count": 5,
   "metadata": {},
   "outputs": [],
   "source": [
    "# 定义Softmax回归\n",
    "def softmax_regression(X, w):\n",
    "    z = X @ w\n",
    "    exp_z = np.exp(z - z.max(axis=1, keepdims=True))  # 防止数值溢出\n",
    "    y = exp_z / exp_z.sum(axis=1, keepdims=True)\n",
    "    return y\n",
    "\n",
    "# 定义交叉熵损失的导函数\n",
    "def dCrossEntropy(X_train, y_train, y_pred):\n",
    "    n = len(X_train)\n",
    "    return X_train.T @ (y_pred - y_train) / n\n",
    "\n",
    "# 定义one-hot\n",
    "def onehot(y):\n",
    "    return np.eye(3)[y]"
   ]
  },
  {
   "cell_type": "code",
   "execution_count": 6,
   "metadata": {},
   "outputs": [
    {
     "name": "stdout",
     "output_type": "stream",
     "text": [
      "[[ 0.33271293  0.2148396  -0.54755253]\n",
      " [ 0.83325269 -0.27878767 -0.55446503]\n",
      " [-1.18629723  0.16136112  1.02493611]\n",
      " [-0.53740959 -0.18095203  0.71836162]]\n",
      "准确率: 1.0\n",
      "示例数据结果: setosa\n"
     ]
    }
   ],
   "source": [
    "# 初始化参数\n",
    "w = np.array([\n",
    "    [0, 0, 0], \n",
    "    [0, 0, 0], \n",
    "    [0, 0, 0],\n",
    "    [0, 0, 0], \n",
    "])\n",
    "\n",
    "# 梯度下降更新\n",
    "alpha = 0.01\n",
    "for i in range(1000):\n",
    "    y_pred = softmax_regression(X_train, w)\n",
    "    df = dCrossEntropy(X_train, onehot(y_train), y_pred)\n",
    "    w = w - alpha * df\n",
    "\n",
    "print(w)\n",
    "\n",
    "# 预测\n",
    "y_pred = softmax_regression(X_test, w)\n",
    "y_pred = y_pred.argmax(axis=1)\n",
    "\n",
    "print('准确率:', round(accuracy_score(y_test, y_pred), 2))\n",
    "\n",
    "# 测试示例数据\n",
    "X_exam = np.array([\n",
    "    [4.8, 3.0, 1.1, 0.1]\n",
    "])\n",
    "\n",
    "y_exam = softmax_regression(X_exam, w)\n",
    "y_exam = y_exam.argmax(axis=1)[0]\n",
    "print('示例数据结果:', iris.target_names[y_exam])"
   ]
  },
  {
   "cell_type": "code",
   "execution_count": null,
   "metadata": {},
   "outputs": [],
   "source": []
  }
 ],
 "metadata": {
  "kernelspec": {
   "display_name": "beatsleo",
   "language": "python",
   "name": "python3"
  },
  "language_info": {
   "codemirror_mode": {
    "name": "ipython",
    "version": 3
   },
   "file_extension": ".py",
   "mimetype": "text/x-python",
   "name": "python",
   "nbconvert_exporter": "python",
   "pygments_lexer": "ipython3",
   "version": "3.10.13"
  }
 },
 "nbformat": 4,
 "nbformat_minor": 2
}
