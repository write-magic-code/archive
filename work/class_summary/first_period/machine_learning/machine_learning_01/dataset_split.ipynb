{
 "cells": [
  {
   "cell_type": "code",
   "execution_count": 2,
   "metadata": {},
   "outputs": [],
   "source": [
    "import numpy as np\n",
    "from sklearn.datasets import load_iris\n",
    "from sklearn.model_selection import train_test_split"
   ]
  },
  {
   "cell_type": "code",
   "execution_count": 3,
   "metadata": {},
   "outputs": [
    {
     "name": "stdout",
     "output_type": "stream",
     "text": [
      "划分前(X):\n",
      " [[5.1 3.5 1.4 0.2]\n",
      " [5.7 4.4 1.5 0.4]\n",
      " [4.8 3.1 1.6 0.2]\n",
      " [4.8 3.  1.4 0.3]\n",
      " [5.  2.  3.5 1. ]\n",
      " [6.6 3.  4.4 1.4]\n",
      " [5.5 2.6 4.4 1.2]\n",
      " [7.6 3.  6.6 2.1]\n",
      " [6.9 3.2 5.7 2.3]\n",
      " [7.7 3.  6.1 2.3]]\n",
      "划分前(y):\n",
      " [0 0 0 0 1 1 1 2 2 2]\n"
     ]
    }
   ],
   "source": [
    "# 加载数据集\n",
    "data = load_iris()\n",
    "X = data.data[::15]\n",
    "y = data.target[::15]\n",
    "\n",
    "print('划分前(X):\\n', X)\n",
    "print('划分前(y):\\n', y)"
   ]
  },
  {
   "cell_type": "code",
   "execution_count": 4,
   "metadata": {},
   "outputs": [
    {
     "name": "stdout",
     "output_type": "stream",
     "text": [
      "划分后(X_train):\n",
      " [[6.6 3.  4.4 1.4]\n",
      " [4.8 3.1 1.6 0.2]\n",
      " [5.7 4.4 1.5 0.4]\n",
      " [5.  2.  3.5 1. ]\n",
      " [7.6 3.  6.6 2.1]\n",
      " [7.7 3.  6.1 2.3]\n",
      " [5.1 3.5 1.4 0.2]]\n",
      "划分后(y_train):\n",
      " [1 0 0 1 2 2 0]\n",
      "\n",
      "\n",
      "划分后(X_test):\n",
      " [[6.9 3.2 5.7 2.3]\n",
      " [5.5 2.6 4.4 1.2]\n",
      " [4.8 3.  1.4 0.3]]\n",
      "划分后(y_test):\n",
      " [2 1 0]\n"
     ]
    }
   ],
   "source": [
    "# 将数据集划分为训练集和测试集，这里训练集:测试集为7:3\n",
    "X_train, X_test, y_train, y_test = train_test_split(X, y, test_size=0.3)\n",
    "# X_train, X_test, y_train, y_test = train_test_split(X, y, test_size=0.3, random_state=42)\n",
    "print('划分后(X_train):\\n', X_train)\n",
    "print('划分后(y_train):\\n', y_train)\n",
    "print('\\n')\n",
    "print('划分后(X_test):\\n', X_test)\n",
    "print('划分后(y_test):\\n', y_test)"
   ]
  }
 ],
 "metadata": {
  "kernelspec": {
   "display_name": "beatsleo",
   "language": "python",
   "name": "python3"
  },
  "language_info": {
   "codemirror_mode": {
    "name": "ipython",
    "version": 3
   },
   "file_extension": ".py",
   "mimetype": "text/x-python",
   "name": "python",
   "nbconvert_exporter": "python",
   "pygments_lexer": "ipython3",
   "version": "3.10.13"
  }
 },
 "nbformat": 4,
 "nbformat_minor": 2
}
