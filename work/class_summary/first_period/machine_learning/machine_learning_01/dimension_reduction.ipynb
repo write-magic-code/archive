{
 "cells": [
  {
   "cell_type": "markdown",
   "metadata": {},
   "source": [
    "### PCA"
   ]
  },
  {
   "cell_type": "code",
   "execution_count": 14,
   "metadata": {},
   "outputs": [],
   "source": [
    "import numpy as np\n",
    "from sklearn.decomposition import PCA\n",
    "from sklearn.preprocessing import StandardScaler"
   ]
  },
  {
   "cell_type": "code",
   "execution_count": 15,
   "metadata": {},
   "outputs": [
    {
     "name": "stdout",
     "output_type": "stream",
     "text": [
      "降维后的数据： [[-1.03036351 -0.16707256]\n",
      " [ 2.8653447  -0.04810784]\n",
      " [-1.05431008 -0.48854595]\n",
      " [-0.78067112  0.70372635]]\n"
     ]
    }
   ],
   "source": [
    "# 假设X是输入数据\n",
    "X = np.array([[2.5, 2.4, 2.3], [0.5, 0.7, 0], [2.2, 2.9, 2.1], [1.9, 2.2, 3]])\n",
    "\n",
    "# 标准化数据\n",
    "scaler = StandardScaler()\n",
    "X_scaled = scaler.fit_transform(X)\n",
    "\n",
    "# PCA降维\n",
    "pca = PCA(n_components=2)  # 保留2个主成分\n",
    "X_pca = pca.fit_transform(X_scaled)\n",
    "\n",
    "print(\"降维后的数据：\", X_pca)"
   ]
  },
  {
   "cell_type": "markdown",
   "metadata": {},
   "source": [
    "### SVD"
   ]
  },
  {
   "cell_type": "code",
   "execution_count": 16,
   "metadata": {},
   "outputs": [],
   "source": [
    "import numpy as np\n",
    "from sklearn.decomposition import TruncatedSVD\n",
    "from sklearn.preprocessing import StandardScaler"
   ]
  },
  {
   "cell_type": "code",
   "execution_count": 17,
   "metadata": {},
   "outputs": [
    {
     "name": "stdout",
     "output_type": "stream",
     "text": [
      "SVD降维后的数据： [[-1.03036351 -0.16707256]\n",
      " [ 2.8653447  -0.04810784]\n",
      " [-1.05431008 -0.48854595]\n",
      " [-0.78067112  0.70372635]]\n"
     ]
    }
   ],
   "source": [
    "# 假设X是输入数据\n",
    "X = np.array([[2.5, 2.4, 2.3], [0.5, 0.7, 0], [2.2, 2.9, 2.1], [1.9, 2.2, 3]])\n",
    "\n",
    "# 标准化数据（可选）\n",
    "scaler = StandardScaler()\n",
    "X_scaled = scaler.fit_transform(X)\n",
    "\n",
    "# SVD降维\n",
    "svd = TruncatedSVD(n_components=2)  # 保留2个奇异值\n",
    "X_svd = svd.fit_transform(X_scaled)\n",
    "\n",
    "print(\"SVD降维后的数据：\", X_svd)\n"
   ]
  },
  {
   "cell_type": "code",
   "execution_count": null,
   "metadata": {},
   "outputs": [],
   "source": []
  }
 ],
 "metadata": {
  "kernelspec": {
   "display_name": "beatsleo",
   "language": "python",
   "name": "python3"
  },
  "language_info": {
   "codemirror_mode": {
    "name": "ipython",
    "version": 3
   },
   "file_extension": ".py",
   "mimetype": "text/x-python",
   "name": "python",
   "nbconvert_exporter": "python",
   "pygments_lexer": "ipython3",
   "version": "3.10.13"
  }
 },
 "nbformat": 4,
 "nbformat_minor": 2
}
